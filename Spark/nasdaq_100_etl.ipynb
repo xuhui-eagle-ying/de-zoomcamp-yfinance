{
 "cells": [
  {
   "cell_type": "markdown",
   "id": "f72259ca-63d6-4ab8-8968-17ec5fc07800",
   "metadata": {},
   "source": [
    "Step1: Read yfinance data from gcs data lake"
   ]
  },
  {
   "cell_type": "markdown",
   "id": "0d5aa35b-b6f0-4027-b289-5df28e8a32be",
   "metadata": {},
   "source": [
    "!pip install google-cloud-storage"
   ]
  },
  {
   "cell_type": "markdown",
   "id": "bdd94544-cb46-403b-aa88-ce12d8942279",
   "metadata": {},
   "source": [
    "!pip install google-cloud-bigquery"
   ]
  },
  {
   "cell_type": "code",
   "execution_count": 45,
   "id": "d001d1ed-3b5c-4125-943d-dbe7d37210e8",
   "metadata": {},
   "outputs": [],
   "source": [
    "from pyspark.sql import SparkSession\n",
    "from pyspark.sql.functions import col, input_file_name, regexp_extract\n",
    "from pyspark.sql import functions as F\n",
    "from pyspark.sql.window import Window\n",
    "import pandas as pd\n",
    "from google.cloud import storage\n",
    "from google.cloud import bigquery\n",
    "import os"
   ]
  },
  {
   "cell_type": "code",
   "execution_count": 2,
   "id": "9886ac9b-ba5b-425b-8daf-262a17be238e",
   "metadata": {},
   "outputs": [
    {
     "name": "stdout",
     "output_type": "stream",
     "text": [
      "Available Buckets: ['yfinance-data-lake']\n"
     ]
    }
   ],
   "source": [
    "os.environ[\"GOOGLE_APPLICATION_CREDENTIALS\"] = \"C:\\\\Users\\\\nbyin\\\\.gc\\\\credentials\\\\google_credentials.json\"\n",
    "\n",
    "client = storage.Client()\n",
    "buckets = list(client.list_buckets())\n",
    "print(\"Available Buckets:\", [bucket.name for bucket in buckets])"
   ]
  },
  {
   "cell_type": "code",
   "execution_count": 52,
   "id": "6eefa555-e077-4159-b242-76f6282095c2",
   "metadata": {},
   "outputs": [],
   "source": [
    "spark = SparkSession.builder \\\n",
    "    .appName(\"StockAnalysis\") \\\n",
    "    .config(\"spark.jars\", \"C:\\\\Users\\\\nbyin\\\\5_spark\\\\spark-3.3.2-bin-hadoop3\\\\jars\\\\spark-3.3-bigquery-0.42.1.jar\") \\\n",
    "    .getOrCreate()"
   ]
  },
  {
   "cell_type": "code",
   "execution_count": 4,
   "id": "c879bfa5-ace1-4dcc-b05c-6438451fef16",
   "metadata": {},
   "outputs": [
    {
     "name": "stdout",
     "output_type": "stream",
     "text": [
      "+--------------------+------+--------------------+--------------------+\n",
      "|             Company|Ticker|         GICS Sector|   GICS Sub-Industry|\n",
      "+--------------------+------+--------------------+--------------------+\n",
      "|          Adobe Inc.|  ADBE|Information Techn...|Application Software|\n",
      "|Advanced Micro De...|   AMD|Information Techn...|      Semiconductors|\n",
      "|              Airbnb|  ABNB|Consumer Discreti...|Hotels, Resorts &...|\n",
      "|Alphabet Inc. (Cl...| GOOGL|Communication Ser...|Interactive Media...|\n",
      "|Alphabet Inc. (Cl...|  GOOG|Communication Ser...|Interactive Media...|\n",
      "|              Amazon|  AMZN|Consumer Discreti...|    Broadline Retail|\n",
      "|American Electric...|   AEP|           Utilities|  Electric Utilities|\n",
      "|               Amgen|  AMGN|         Health Care|       Biotechnology|\n",
      "|      Analog Devices|   ADI|Information Techn...|      Semiconductors|\n",
      "|               Ansys|  ANSS|Information Techn...|Application Software|\n",
      "|          Apple Inc.|  AAPL|Information Techn...|Technology Hardwa...|\n",
      "|   Applied Materials|  AMAT|Information Techn...|Semiconductor Equ...|\n",
      "|            AppLovin|   APP|Information Techn...|Application Software|\n",
      "|        Arm Holdings|   ARM|Information Techn...|      Semiconductors|\n",
      "|        ASML Holding|  ASML|Information Techn...|Semiconductor Equ...|\n",
      "|         AstraZeneca|   AZN|         Health Care|     Pharmaceuticals|\n",
      "|           Atlassian|  TEAM|Information Techn...|Application Software|\n",
      "|            Autodesk|  ADSK|Information Techn...|Application Software|\n",
      "|Automatic Data Pr...|   ADP|         Industrials|Human Resource & ...|\n",
      "|     Axon Enterprise|  AXON|         Industrials| Aerospace & Defense|\n",
      "+--------------------+------+--------------------+--------------------+\n",
      "only showing top 20 rows\n",
      "\n"
     ]
    }
   ],
   "source": [
    "wiki_path = \"gs://yfinance-data-lake/nasdaq_100_data/*.csv\"\n",
    "nasdaq_100_df = spark.read.option(\"header\", \"true\").csv(wiki_path)\n",
    "nasdaq_100_df.show()"
   ]
  },
  {
   "cell_type": "code",
   "execution_count": 5,
   "id": "7df3d41e-f818-48bc-85ba-7ebd48f7fb9a",
   "metadata": {},
   "outputs": [
    {
     "name": "stdout",
     "output_type": "stream",
     "text": [
      "['CDW', 'CRWD', 'EA', 'ARM', 'APP', 'AAPL', 'TTWO', 'CSCO', 'ADI', 'MCHP', 'ROP', 'GILD', 'AMGN', 'QCOM', 'CEG', 'MNST', 'PANW', 'META', 'TSLA', 'INTC', 'MDB', 'INTU', 'ROST', 'CCEP', 'CTAS', 'ANSS', 'PAYX', 'CSX', 'ADP', 'VRTX', 'PDD', 'DXCM', 'GEHC', 'TTD', 'AZN', 'GOOG', 'PCAR', 'NFLX', 'COST', 'FANG', 'ISRG', 'AXON', 'EXC', 'ABNB', 'KLAC', 'AEP', 'WBD', 'DASH', 'LIN', 'TMUS', 'DDOG', 'NXPI', 'GOOGL', 'MSTR', 'GFS', 'KDP', 'TEAM', 'MAR', 'PLTR', 'ADSK', 'LRCX', 'CSGP', 'MRVL', 'TXN', 'WDAY', 'AVGO', 'AMAT', 'AMD', 'IDXX', 'ON', 'SBUX', 'VRSK', 'MU', 'CTSH', 'CDNS', 'CMCSA', 'CPRT', 'ORLY', 'PYPL', 'ODFL', 'BKR', 'REGN', 'KHC', 'ZS', 'LULU', 'AMZN', 'BIIB', 'MSFT', 'MDLZ', 'HON', 'ADBE', 'BKNG', 'FAST', 'FTNT', 'SNPS', 'ASML', 'PEP', 'NVDA', 'XEL', 'CHTR', 'MELI']\n"
     ]
    }
   ],
   "source": [
    "ticker_list = [row[\"Ticker\"] for row in nasdaq_100_df.select(\"Ticker\").distinct().collect()]\n",
    "print(ticker_list)"
   ]
  },
  {
   "cell_type": "code",
   "execution_count": 6,
   "id": "c3481642-025f-40d0-a397-62bf90f6796a",
   "metadata": {},
   "outputs": [
    {
     "name": "stdout",
     "output_type": "stream",
     "text": [
      "+--------------------+------------------+-----------------+------------------+------------------+---------+---------+------------+\n",
      "|                Date|              Open|             High|               Low|             Close|   Volume|Dividends|Stock Splits|\n",
      "+--------------------+------------------+-----------------+------------------+------------------+---------+---------+------------+\n",
      "|2024-01-02 00:00:...| 49.22551389912714|49.27649344260116| 47.57713465197093| 48.14991760253906|411254000|      0.0|         0.0|\n",
      "|2024-01-03 00:00:...| 47.46717554449256|48.16591065021649|47.302236567517355|47.551143646240234|320896000|      0.0|         0.0|\n",
      "|2024-01-04 00:00:...| 47.74906818641796|48.48179475152094| 47.49016653492504|47.979984283447266|306535000|      0.0|         0.0|\n",
      "|2024-01-05 00:00:...| 48.44380758245641|49.52839932284036| 48.28786410604074| 49.07856750488281|415039000|      0.0|         0.0|\n",
      "|2024-01-08 00:00:...|49.493414803058315| 52.2553780928012| 49.46042624518818| 52.23338317871094|642510000|      0.0|         0.0|\n",
      "+--------------------+------------------+-----------------+------------------+------------------+---------+---------+------------+\n",
      "only showing top 5 rows\n",
      "\n"
     ]
    }
   ],
   "source": [
    "stocks_path = \"gs://yfinance-data-lake/stocks/*/*.parquet\"\n",
    "yfinance_data = spark.read.parquet(stocks_path)\n",
    "yfinance_data.show(5)"
   ]
  },
  {
   "cell_type": "code",
   "execution_count": 7,
   "id": "e9a944e2-bd8b-4661-8fe6-45deed5eef0c",
   "metadata": {},
   "outputs": [
    {
     "name": "stdout",
     "output_type": "stream",
     "text": [
      "+--------------------+------------------+-----------------+------------------+------------------+---------+---------+------------+------+\n",
      "|                Date|              Open|             High|               Low|             Close|   Volume|Dividends|Stock Splits|ticker|\n",
      "+--------------------+------------------+-----------------+------------------+------------------+---------+---------+------------+------+\n",
      "|2024-01-02 00:00:...| 49.22551389912714|49.27649344260116| 47.57713465197093| 48.14991760253906|411254000|      0.0|         0.0|  NVDA|\n",
      "|2024-01-03 00:00:...| 47.46717554449256|48.16591065021649|47.302236567517355|47.551143646240234|320896000|      0.0|         0.0|  NVDA|\n",
      "|2024-01-04 00:00:...| 47.74906818641796|48.48179475152094| 47.49016653492504|47.979984283447266|306535000|      0.0|         0.0|  NVDA|\n",
      "|2024-01-05 00:00:...| 48.44380758245641|49.52839932284036| 48.28786410604074| 49.07856750488281|415039000|      0.0|         0.0|  NVDA|\n",
      "|2024-01-08 00:00:...|49.493414803058315| 52.2553780928012| 49.46042624518818| 52.23338317871094|642510000|      0.0|         0.0|  NVDA|\n",
      "+--------------------+------------------+-----------------+------------------+------------------+---------+---------+------------+------+\n",
      "only showing top 5 rows\n",
      "\n"
     ]
    }
   ],
   "source": [
    "yfinance_with_ticker = yfinance_data.withColumn(\n",
    "    \"ticker\", regexp_extract(input_file_name(), r\".*/stocks/([^/]+)/.*\", 1)\n",
    ")\n",
    "yfinance_with_ticker.show(5)"
   ]
  },
  {
   "cell_type": "code",
   "execution_count": 8,
   "id": "90e17050-8e60-4344-b96b-2b6b0eb83a43",
   "metadata": {},
   "outputs": [
    {
     "name": "stdout",
     "output_type": "stream",
     "text": [
      "+----------+------------------+-----------------+------------------+------------------+---------+---------+------------+------+\n",
      "|      Date|              Open|             High|               Low|             Close|   Volume|Dividends|Stock Splits|ticker|\n",
      "+----------+------------------+-----------------+------------------+------------------+---------+---------+------------+------+\n",
      "|2024-01-02| 49.22551389912714|49.27649344260116| 47.57713465197093| 48.14991760253906|411254000|      0.0|         0.0|  NVDA|\n",
      "|2024-01-03| 47.46717554449256|48.16591065021649|47.302236567517355|47.551143646240234|320896000|      0.0|         0.0|  NVDA|\n",
      "|2024-01-04| 47.74906818641796|48.48179475152094| 47.49016653492504|47.979984283447266|306535000|      0.0|         0.0|  NVDA|\n",
      "|2024-01-05| 48.44380758245641|49.52839932284036| 48.28786410604074| 49.07856750488281|415039000|      0.0|         0.0|  NVDA|\n",
      "|2024-01-08|49.493414803058315| 52.2553780928012| 49.46042624518818| 52.23338317871094|642510000|      0.0|         0.0|  NVDA|\n",
      "+----------+------------------+-----------------+------------------+------------------+---------+---------+------------+------+\n",
      "only showing top 5 rows\n",
      "\n"
     ]
    }
   ],
   "source": [
    "yfinance_with_ticker = yfinance_with_ticker.withColumn(\"Date\", F.to_date(\"Date\"))\n",
    "yfinance_with_ticker.show(5)"
   ]
  },
  {
   "cell_type": "code",
   "execution_count": 9,
   "id": "93ee2e5a-de62-4427-ac3c-443d4750f21f",
   "metadata": {},
   "outputs": [
    {
     "name": "stdout",
     "output_type": "stream",
     "text": [
      "+----------+-----------------+-----------------+-----------------+-----------------+---------+---------+------------+------+\n",
      "|      Date|             Open|             High|              Low|            Close|   Volume|Dividends|Stock Splits|ticker|\n",
      "+----------+-----------------+-----------------+-----------------+-----------------+---------+---------+------------+------+\n",
      "|2020-01-02|71.72100391407992|72.77658292273667|71.46679725362982|72.71605682373047|135480400|      0.0|         0.0|  AAPL|\n",
      "|2020-01-03|71.94132818321717|72.77174458511139| 71.7839617851537|72.00911712646484|146322800|      0.0|         0.0|  AAPL|\n",
      "|2020-01-06|71.12786596061405|72.62164622763687|70.87607527260708| 72.5829086303711|118387200|      0.0|         0.0|  AAPL|\n",
      "|2020-01-07|72.59260129853506|72.84923143823697|72.02123831231323| 72.2415542602539|108872000|      0.0|         0.0|  AAPL|\n",
      "|2020-01-08| 71.9437663243162|73.70628659812324| 71.9437663243162|73.40365600585938|132079200|      0.0|         0.0|  AAPL|\n",
      "|2020-01-09|74.38417348369161|75.15648731833909| 74.1323901596974|74.96280670166016|170108400|      0.0|         0.0|  AAPL|\n",
      "|2020-01-10|75.19764374317383|75.69880172853615|74.62869680726308|75.13227081298828|140644800|      0.0|         0.0|  AAPL|\n",
      "|2020-01-13|75.44943665950792|76.76406209011934|75.33080045122755| 76.7374267578125|121532000|      0.0|         0.0|  AAPL|\n",
      "|2020-01-14| 76.6744745414686|76.88510420958616|75.57774178905865|75.70121002197266|161954400|      0.0|         0.0|  AAPL|\n",
      "|2020-01-15| 75.5002914579072| 76.3839714245918| 74.9434466626335|75.37681579589844|121923600|      0.0|         0.0|  AAPL|\n",
      "|2020-01-16|75.92153589794125|76.43238014496747|75.55837921189631|76.32100677490234|108829200|      0.0|         0.0|  AAPL|\n",
      "|2020-01-17|76.57037231867773|77.16837061022176|76.26290232469962|77.16595458984375|137816400|      0.0|         0.0|  AAPL|\n",
      "|2020-01-21|76.79310894375465|77.23615682397768|76.50500406521856|76.64300537109375|110843200|      0.0|         0.0|  AAPL|\n",
      "|2020-01-22|77.12963354237134|77.47100170840719|76.82216354627624|76.91658782958984|101832400|      0.0|         0.0|  AAPL|\n",
      "|2020-01-23|76.96983874202517| 77.3668861399878|76.42025699227077|77.28699493408203|104472000|      0.0|         0.0|  AAPL|\n",
      "|2020-01-24| 77.5339532626897|78.27963174807223| 76.8730054274966|77.06427001953125|146537600|      0.0|         0.0|  AAPL|\n",
      "|2020-01-27|75.06689673049003|75.48089322464955|73.81279759380895|74.79816436767578|161940000|      0.0|         0.0|  AAPL|\n",
      "|2020-01-28|75.68184343719155|77.08604612277858|75.58257973802782|76.91415405273438|162234000|      0.0|         0.0|  AAPL|\n",
      "|2020-01-29| 78.5507976259598|79.37395133976464|77.80753513570895|78.52416229248047|216229200|      0.0|         0.0|  AAPL|\n",
      "|2020-01-30|77.60416527632543|78.46363314950943|77.17079622640016|78.41036987304688|126743200|      0.0|         0.0|  AAPL|\n",
      "+----------+-----------------+-----------------+-----------------+-----------------+---------+---------+------------+------+\n",
      "only showing top 20 rows\n",
      "\n"
     ]
    }
   ],
   "source": [
    "# eg.take a glimpse at APPL\n",
    "df_spark_appl = yfinance_with_ticker.filter(col(\"ticker\") == \"AAPL\")\n",
    "df_spark_appl.show()"
   ]
  },
  {
   "cell_type": "markdown",
   "id": "e6b29355-9bda-432f-a23e-601b51bdb8d1",
   "metadata": {},
   "source": [
    "Step2: Join yfinance data with nasdaq_100_data from wikipedia"
   ]
  },
  {
   "cell_type": "code",
   "execution_count": 10,
   "id": "77fc7134-4557-44e3-947e-d6a762919d1e",
   "metadata": {},
   "outputs": [],
   "source": [
    "yfinance_with_ticker = yfinance_with_ticker.withColumnRenamed(\"ticker\", \"ticker_yf\")"
   ]
  },
  {
   "cell_type": "code",
   "execution_count": 11,
   "id": "281f5743-985c-4374-b54e-98d4460df379",
   "metadata": {},
   "outputs": [
    {
     "name": "stdout",
     "output_type": "stream",
     "text": [
      "+----------+------------------+-----------------+------------------+------------------+---------+---------+------------+---------+-------+------+--------------------+-----------------+\n",
      "|      Date|              Open|             High|               Low|             Close|   Volume|Dividends|Stock Splits|ticker_yf|Company|Ticker|         GICS Sector|GICS Sub-Industry|\n",
      "+----------+------------------+-----------------+------------------+------------------+---------+---------+------------+---------+-------+------+--------------------+-----------------+\n",
      "|2024-01-02| 49.22551389912714|49.27649344260116| 47.57713465197093| 48.14991760253906|411254000|      0.0|         0.0|     NVDA| Nvidia|  NVDA|Information Techn...|   Semiconductors|\n",
      "|2024-01-03| 47.46717554449256|48.16591065021649|47.302236567517355|47.551143646240234|320896000|      0.0|         0.0|     NVDA| Nvidia|  NVDA|Information Techn...|   Semiconductors|\n",
      "|2024-01-04| 47.74906818641796|48.48179475152094| 47.49016653492504|47.979984283447266|306535000|      0.0|         0.0|     NVDA| Nvidia|  NVDA|Information Techn...|   Semiconductors|\n",
      "|2024-01-05| 48.44380758245641|49.52839932284036| 48.28786410604074| 49.07856750488281|415039000|      0.0|         0.0|     NVDA| Nvidia|  NVDA|Information Techn...|   Semiconductors|\n",
      "|2024-01-08|49.493414803058315| 52.2553780928012| 49.46042624518818| 52.23338317871094|642510000|      0.0|         0.0|     NVDA| Nvidia|  NVDA|Information Techn...|   Semiconductors|\n",
      "+----------+------------------+-----------------+------------------+------------------+---------+---------+------------+---------+-------+------+--------------------+-----------------+\n",
      "only showing top 5 rows\n",
      "\n"
     ]
    }
   ],
   "source": [
    "combined_df = yfinance_with_ticker.join(nasdaq_100_df, yfinance_with_ticker[\"ticker_yf\"] == nasdaq_100_df[\"Ticker\"], how=\"inner\")\n",
    "combined_df.show(5)"
   ]
  },
  {
   "cell_type": "code",
   "execution_count": 12,
   "id": "f1fa543d-a224-48b6-add3-d7f21cae8144",
   "metadata": {},
   "outputs": [
    {
     "name": "stdout",
     "output_type": "stream",
     "text": [
      "+------------+------+----------+------------------+------------------+--------------------+--------------+\n",
      "|company_name|Ticker|      Date|              Open|             Close|              sector|  sub_industry|\n",
      "+------------+------+----------+------------------+------------------+--------------------+--------------+\n",
      "|      Nvidia|  NVDA|2024-01-02| 49.22551389912714| 48.14991760253906|Information Techn...|Semiconductors|\n",
      "|      Nvidia|  NVDA|2024-01-03| 47.46717554449256|47.551143646240234|Information Techn...|Semiconductors|\n",
      "|      Nvidia|  NVDA|2024-01-04| 47.74906818641796|47.979984283447266|Information Techn...|Semiconductors|\n",
      "|      Nvidia|  NVDA|2024-01-05| 48.44380758245641| 49.07856750488281|Information Techn...|Semiconductors|\n",
      "|      Nvidia|  NVDA|2024-01-08|49.493414803058315| 52.23338317871094|Information Techn...|Semiconductors|\n",
      "+------------+------+----------+------------------+------------------+--------------------+--------------+\n",
      "only showing top 5 rows\n",
      "\n"
     ]
    }
   ],
   "source": [
    "data = combined_df.select(\n",
    "    col(\"Company\").alias(\"company_name\"),\n",
    "    col(\"Ticker\"), \n",
    "    col(\"Date\"), \n",
    "    col(\"Open\"), \n",
    "    col(\"Close\"), \n",
    "    col(\"GICS Sector\").alias(\"sector\"),\n",
    "    col(\"GICS Sub-Industry\").alias(\"sub_industry\")\n",
    ")\n",
    "data.show(5)"
   ]
  },
  {
   "cell_type": "markdown",
   "id": "20ddd8e7-38fa-46cd-943c-4cb272392e19",
   "metadata": {},
   "source": [
    "Step3: Group by sector & sub-industry"
   ]
  },
  {
   "cell_type": "code",
   "execution_count": 15,
   "id": "06dad7d5-73fc-44a0-9a7c-ac0d9f947188",
   "metadata": {},
   "outputs": [
    {
     "name": "stdout",
     "output_type": "stream",
     "text": [
      "+--------------------+-----+\n",
      "|              sector|count|\n",
      "+--------------------+-----+\n",
      "|Communication Ser...|27178|\n",
      "|Information Techn...|91948|\n",
      "|Consumer Discreti...|26239|\n",
      "|         Industrials|27610|\n",
      "|         Health Care|23102|\n",
      "|              Energy| 5020|\n",
      "|           Utilities| 8271|\n",
      "|    Consumer Staples|17444|\n",
      "|           Materials| 2510|\n",
      "|          Financials| 2384|\n",
      "|         Real Estate| 2510|\n",
      "+--------------------+-----+\n",
      "\n"
     ]
    },
    {
     "data": {
      "text/plain": [
       "11"
      ]
     },
     "execution_count": 15,
     "metadata": {},
     "output_type": "execute_result"
    }
   ],
   "source": [
    "sector_count = data.groupBy(\"sector\").count()\n",
    "sector_count.show()\n",
    "\n",
    "distinct_sectors = data.select(\"sector\").distinct()\n",
    "distinct_sectors.count()"
   ]
  },
  {
   "cell_type": "code",
   "execution_count": 16,
   "id": "b4539db0-128e-4757-a733-6013145ef552",
   "metadata": {},
   "outputs": [
    {
     "name": "stdout",
     "output_type": "stream",
     "text": [
      "+--------------------+-----+\n",
      "|        sub_industry|count|\n",
      "+--------------------+-----+\n",
      "|Interactive Media...| 7530|\n",
      "|Technology Hardwa...| 2510|\n",
      "|    Systems Software|10731|\n",
      "|      Semiconductors|28732|\n",
      "|Semiconductor Equ...|10040|\n",
      "|         Restaurants| 2510|\n",
      "|   Cable & Satellite| 5020|\n",
      "| Rail Transportation| 2510|\n",
      "|Application Software|28828|\n",
      "|Communications Eq...| 2510|\n",
      "|       Biotechnology|12550|\n",
      "|  Electric Utilities| 5761|\n",
      "|Oil & Gas Explora...| 2510|\n",
      "|Industrial Conglo...| 2510|\n",
      "|Construction Mach...| 2510|\n",
      "|Soft Drinks & Non...|10040|\n",
      "|Hotels, Resorts &...| 6037|\n",
      "|Wireless Telecomm...| 2510|\n",
      "|     Pharmaceuticals| 2510|\n",
      "|Consumer Staples ...| 2510|\n",
      "+--------------------+-----+\n",
      "only showing top 20 rows\n",
      "\n"
     ]
    },
    {
     "data": {
      "text/plain": [
       "47"
      ]
     },
     "execution_count": 16,
     "metadata": {},
     "output_type": "execute_result"
    }
   ],
   "source": [
    "sub_industry_count = data.groupBy(\"sub_industry\").count()\n",
    "sub_industry_count.show()\n",
    "\n",
    "distinct_industry = data.select(\"sub_industry\").distinct()\n",
    "distinct_industry.count()"
   ]
  },
  {
   "cell_type": "code",
   "execution_count": 17,
   "id": "1a4f440f-a54c-4e84-89be-1abba67d938b",
   "metadata": {},
   "outputs": [
    {
     "name": "stdout",
     "output_type": "stream",
     "text": [
      "+----------+--------------------+------------------+------------------+\n",
      "|      Date|              sector|          avg_open|         avg_close|\n",
      "+----------+--------------------+------------------+------------------+\n",
      "|2024-04-19|Information Techn...|220.32059288280567|215.98012184515233|\n",
      "|2020-10-22|Information Techn...| 140.5777272669553|139.50613440965353|\n",
      "|2020-12-22|Information Techn...|164.06603523318208| 165.7427168143423|\n",
      "|2021-07-30|Information Techn...|193.60630756023656|195.60227213150415|\n",
      "|2021-10-06|Information Techn...|  193.529562942009| 197.0843870700934|\n",
      "+----------+--------------------+------------------+------------------+\n",
      "only showing top 5 rows\n",
      "\n"
     ]
    }
   ],
   "source": [
    "sector_daily_price = data.groupBy(\"Date\", \"sector\").agg(\n",
    "    F.avg(\"Open\").alias(\"avg_open\"),\n",
    "    F.avg(\"Close\").alias(\"avg_close\")\n",
    ")\n",
    "\n",
    "sector_daily_price.show(5)"
   ]
  },
  {
   "cell_type": "code",
   "execution_count": 18,
   "id": "a3e090aa-5ba6-4018-8c4f-f3cbe569f6a0",
   "metadata": {},
   "outputs": [
    {
     "name": "stdout",
     "output_type": "stream",
     "text": [
      "+----------+--------------------+------------------+------------------+\n",
      "|      Date|        sub_industry|          avg_open|         avg_close|\n",
      "+----------+--------------------+------------------+------------------+\n",
      "|2020-03-16|      Semiconductors|44.265391969379465| 41.81771997971968|\n",
      "|2020-05-08|      Semiconductors|54.771261831942304| 55.84048639644276|\n",
      "|2020-05-22|      Semiconductors| 55.02228055985577|55.147816224531695|\n",
      "|2020-06-17|      Semiconductors| 61.50840786548904| 61.45337989113548|\n",
      "|2020-03-09|Technology Hardwa...| 64.00658563730508|  64.5938720703125|\n",
      "+----------+--------------------+------------------+------------------+\n",
      "only showing top 5 rows\n",
      "\n"
     ]
    }
   ],
   "source": [
    "sub_industry_daily_price = data.groupBy(\"Date\", \"sub_industry\").agg(\n",
    "    F.avg(\"Open\").alias(\"avg_open\"),\n",
    "    F.avg(\"Close\").alias(\"avg_close\")\n",
    ")\n",
    "\n",
    "sub_industry_daily_price.show(5)"
   ]
  },
  {
   "cell_type": "markdown",
   "id": "dfecd7b0-eebf-4e7e-8c01-2a1e5330c5e5",
   "metadata": {},
   "source": [
    "Step4: Daily return and moving average"
   ]
  },
  {
   "cell_type": "code",
   "execution_count": 22,
   "id": "6839328b-854c-43ac-bd9a-51525587d460",
   "metadata": {},
   "outputs": [
    {
     "name": "stdout",
     "output_type": "stream",
     "text": [
      "+------------+------+----------+------------------+------------------+--------------------+--------------------+--------------------+------------------+-------------------+-------------------+\n",
      "|company_name|Ticker|      Date|              Open|             Close|              sector|        sub_industry|        daily_return|rolling_50_day_avg|rolling_100_day_avg|rolling_200_day_avg|\n",
      "+------------+------+----------+------------------+------------------+--------------------+--------------------+--------------------+------------------+-------------------+-------------------+\n",
      "|  Apple Inc.|  AAPL|2015-01-02| 24.77868056866345|  24.3204345703125|Information Techn...|Technology Hardwa...|-0.01849355929510...|  24.3204345703125|   24.3204345703125|   24.3204345703125|\n",
      "|  Apple Inc.|  AAPL|2015-01-05| 24.08908208842444|23.635284423828125|Information Techn...|Technology Hardwa...|-0.01883831284772696|23.977859497070312| 23.977859497070312| 23.977859497070312|\n",
      "|  Apple Inc.|  AAPL|2015-01-06|23.699795956528767|23.637510299682617|Information Techn...|Technology Hardwa...|-0.00262810941327...|23.864409764607746| 23.864409764607746| 23.864409764607746|\n",
      "|  Apple Inc.|  AAPL|2015-01-07|23.846609873223667|23.968957901000977|Information Techn...|Technology Hardwa...| 0.00513062562887353|23.890546798706055| 23.890546798706055| 23.890546798706055|\n",
      "|  Apple Inc.|  AAPL|2015-01-08| 24.29818108295771|24.889896392822266|Information Techn...|Technology Hardwa...| 0.02435224710213277|24.090416717529298| 24.090416717529298| 24.090416717529298|\n",
      "+------------+------+----------+------------------+------------------+--------------------+--------------------+--------------------+------------------+-------------------+-------------------+\n",
      "only showing top 5 rows\n",
      "\n"
     ]
    }
   ],
   "source": [
    "data = data.withColumn(\"daily_return\", (col(\"Close\") - col(\"Open\")) / col(\"Open\"))\n",
    "data = data.withColumn(\"rolling_50_day_avg\", F.avg(\"Close\").over(Window.partitionBy(\"ticker\").orderBy(\"Date\").rowsBetween(-50, 0)))\n",
    "data = data.withColumn(\"rolling_100_day_avg\", F.avg(\"Close\").over(Window.partitionBy(\"ticker\").orderBy(\"Date\").rowsBetween(-100, 0)))\n",
    "data = data.withColumn(\"rolling_200_day_avg\", F.avg(\"Close\").over(Window.partitionBy(\"ticker\").orderBy(\"Date\").rowsBetween(-200, 0)))\n",
    "data.show(5)"
   ]
  },
  {
   "cell_type": "code",
   "execution_count": 27,
   "id": "ff101086-bd58-44ad-831e-dc6df43090e6",
   "metadata": {},
   "outputs": [
    {
     "name": "stdout",
     "output_type": "stream",
     "text": [
      "+----------+--------------------+------------------+------------------+--------------------+\n",
      "|      Date|              sector|          avg_open|         avg_close|        daily_return|\n",
      "+----------+--------------------+------------------+------------------+--------------------+\n",
      "|2024-04-19|Information Techn...|220.32059288280567|215.98012184515233|-0.01970070514453...|\n",
      "|2020-10-22|Information Techn...| 140.5777272669553|139.50613440965353|-0.00762277835995...|\n",
      "|2020-12-22|Information Techn...|164.06603523318208| 165.7427168143423| 0.01021955323523966|\n",
      "|2021-07-30|Information Techn...|193.60630756023656|195.60227213150415|0.010309398471672155|\n",
      "|2021-10-06|Information Techn...|  193.529562942009| 197.0843870700934| 0.01836837780256663|\n",
      "+----------+--------------------+------------------+------------------+--------------------+\n",
      "only showing top 5 rows\n",
      "\n",
      "+----------+--------------------+------------------+------------------+--------------------+\n",
      "|      Date|        sub_industry|          avg_open|         avg_close|        daily_return|\n",
      "+----------+--------------------+------------------+------------------+--------------------+\n",
      "|2020-03-16|      Semiconductors|44.265391969379465| 41.81771997971968|-0.05529538722605135|\n",
      "|2020-05-08|      Semiconductors|54.771261831942304| 55.84048639644276|0.019521634680997855|\n",
      "|2020-05-22|      Semiconductors| 55.02228055985577|55.147816224531695|0.002281542375172163|\n",
      "|2020-06-17|      Semiconductors| 61.50840786548904| 61.45337989113548|-8.94641501270900...|\n",
      "|2020-03-09|Technology Hardwa...| 64.00658563730508|  64.5938720703125|0.009175406361078125|\n",
      "+----------+--------------------+------------------+------------------+--------------------+\n",
      "only showing top 5 rows\n",
      "\n"
     ]
    }
   ],
   "source": [
    "sector_daily_price = sector_daily_price.withColumn(\"daily_return\", (col(\"avg_close\") - col(\"avg_open\")) / col(\"avg_open\"))\n",
    "sector_daily_price.show(5)\n",
    "\n",
    "sub_industry_daily_price = sub_industry_daily_price.withColumn(\"daily_return\", (col(\"avg_close\") - col(\"avg_open\")) / col(\"avg_open\"))\n",
    "sub_industry_daily_price.show(5)"
   ]
  },
  {
   "cell_type": "markdown",
   "id": "435d6e97-ea9a-4231-80db-b66b9ce2d347",
   "metadata": {},
   "source": [
    "Step4: calculate relative return starting Jan 2015"
   ]
  },
  {
   "cell_type": "code",
   "execution_count": 25,
   "id": "92ce35ee-13aa-4503-b781-73184069fc51",
   "metadata": {},
   "outputs": [],
   "source": [
    "base_date = \"2015-01-02\""
   ]
  },
  {
   "cell_type": "code",
   "execution_count": 26,
   "id": "be9f1adb-063e-4901-862f-d7596382f2be",
   "metadata": {
    "scrolled": true
   },
   "outputs": [
    {
     "name": "stdout",
     "output_type": "stream",
     "text": [
      "+------+------------------+\n",
      "|ticker|        base_Close|\n",
      "+------+------------------+\n",
      "|  AAPL|  24.3204345703125|\n",
      "|  AVGO| 7.605642318725586|\n",
      "|  LRCX| 3.865813970565796|\n",
      "| GOOGL|26.351516723632812|\n",
      "|  GOOG|26.045289993286133|\n",
      "+------+------------------+\n",
      "only showing top 5 rows\n",
      "\n",
      "+------+------------+----------+------------------+------------------+--------------------+--------------------+--------------------+------------------+-------------------+-------------------+-------------------+\n",
      "|Ticker|company_name|      Date|              Open|             Close|              sector|        sub_industry|        daily_return|rolling_50_day_avg|rolling_100_day_avg|rolling_200_day_avg|    relative_return|\n",
      "+------+------------+----------+------------------+------------------+--------------------+--------------------+--------------------+------------------+-------------------+-------------------+-------------------+\n",
      "|  AAPL|  Apple Inc.|2015-01-02| 24.77868056866345|  24.3204345703125|Information Techn...|Technology Hardwa...|-0.01849355929510...|  24.3204345703125|   24.3204345703125|   24.3204345703125|                0.0|\n",
      "|  AAPL|  Apple Inc.|2015-01-05| 24.08908208842444|23.635284423828125|Information Techn...|Technology Hardwa...|-0.01883831284772696|23.977859497070312| 23.977859497070312| 23.977859497070312| -2.817178881008668|\n",
      "|  AAPL|  Apple Inc.|2015-01-06|23.699795956528767|23.637510299682617|Information Techn...|Technology Hardwa...|-0.00262810941327...|23.864409764607746| 23.864409764607746| 23.864409764607746| -2.808026594489869|\n",
      "|  AAPL|  Apple Inc.|2015-01-07|23.846609873223667|23.968957901000977|Information Techn...|Technology Hardwa...| 0.00513062562887353|23.890546798706055| 23.890546798706055| 23.890546798706055|-1.4451907440032525|\n",
      "|  AAPL|  Apple Inc.|2015-01-08| 24.29818108295771|24.889896392822266|Information Techn...|Technology Hardwa...| 0.02435224710213277|24.090416717529298| 24.090416717529298| 24.090416717529298| 2.3414952593194904|\n",
      "+------+------------+----------+------------------+------------------+--------------------+--------------------+--------------------+------------------+-------------------+-------------------+-------------------+\n",
      "only showing top 5 rows\n",
      "\n"
     ]
    }
   ],
   "source": [
    "base_data = data.filter(col(\"Date\") == base_date)\n",
    "base_data = base_data.select(\"ticker\", \"Close\").withColumnRenamed(\"Close\", \"base_Close\")\n",
    "\n",
    "data = data.join(base_data, on=\"ticker\", how=\"left\")\n",
    "data = data.withColumn(\"relative_return\", (col(\"Close\") - col(\"base_Close\")) / col(\"base_Close\") * 100)\n",
    "data = data.drop(\"base_Close\")\n",
    "data.show(5)"
   ]
  },
  {
   "cell_type": "markdown",
   "id": "e9beeaf6-28cc-4f9d-b849-350a85b1f6b9",
   "metadata": {},
   "source": [
    "Step6: Get Big Seven dataset"
   ]
  },
  {
   "cell_type": "markdown",
   "id": "10888ae0-eefb-4ccb-992b-529304fb45d3",
   "metadata": {},
   "source": [
    "The Big 7 Tech Players:\n",
    "\n",
    "Apple Inc. - AAPL\n",
    "\n",
    "Microsoft Corporation - MSFT\n",
    "\n",
    "Amazon.com, Inc. - AMZN\n",
    "\n",
    "Alphabet Inc. (Google) - GOOGL\n",
    "\n",
    "Meta Platforms, Inc. (Facebook) - META\n",
    "\n",
    "NVIDIA Corporation - NVDA\n",
    "\n",
    "Tesla, Inc. - TSLA"
   ]
  },
  {
   "cell_type": "code",
   "execution_count": 33,
   "id": "0e7b6dc9-4b1b-4226-ac1d-0f069758ed2b",
   "metadata": {},
   "outputs": [
    {
     "name": "stdout",
     "output_type": "stream",
     "text": [
      "['AAPL', 'MSFT', 'AMZN', 'AMZN', 'GOOGL', 'META', 'NVDA', 'TSLA']\n"
     ]
    }
   ],
   "source": [
    "big_seven_tickers = ['AAPL', 'MSFT', 'AMZN', 'AMZN', 'GOOGL', 'META', 'NVDA', 'TSLA']\n",
    "print(big_seven_tickers)"
   ]
  },
  {
   "cell_type": "code",
   "execution_count": 34,
   "id": "507e95e9-5319-47c9-9b61-561628b1bdc3",
   "metadata": {},
   "outputs": [
    {
     "name": "stdout",
     "output_type": "stream",
     "text": [
      "+------+------------+----------+------------------+------------------+--------------------+--------------------+--------------------+------------------+-------------------+-------------------+-------------------+\n",
      "|Ticker|company_name|      Date|              Open|             Close|              sector|        sub_industry|        daily_return|rolling_50_day_avg|rolling_100_day_avg|rolling_200_day_avg|    relative_return|\n",
      "+------+------------+----------+------------------+------------------+--------------------+--------------------+--------------------+------------------+-------------------+-------------------+-------------------+\n",
      "|  AAPL|  Apple Inc.|2015-01-02| 24.77868056866345|  24.3204345703125|Information Techn...|Technology Hardwa...|-0.01849355929510...|  24.3204345703125|   24.3204345703125|   24.3204345703125|                0.0|\n",
      "|  AAPL|  Apple Inc.|2015-01-05| 24.08908208842444|23.635284423828125|Information Techn...|Technology Hardwa...|-0.01883831284772696|23.977859497070312| 23.977859497070312| 23.977859497070312| -2.817178881008668|\n",
      "|  AAPL|  Apple Inc.|2015-01-06|23.699795956528767|23.637510299682617|Information Techn...|Technology Hardwa...|-0.00262810941327...|23.864409764607746| 23.864409764607746| 23.864409764607746| -2.808026594489869|\n",
      "|  AAPL|  Apple Inc.|2015-01-07|23.846609873223667|23.968957901000977|Information Techn...|Technology Hardwa...| 0.00513062562887353|23.890546798706055| 23.890546798706055| 23.890546798706055|-1.4451907440032525|\n",
      "|  AAPL|  Apple Inc.|2015-01-08| 24.29818108295771|24.889896392822266|Information Techn...|Technology Hardwa...| 0.02435224710213277|24.090416717529298| 24.090416717529298| 24.090416717529298| 2.3414952593194904|\n",
      "+------+------------+----------+------------------+------------------+--------------------+--------------------+--------------------+------------------+-------------------+-------------------+-------------------+\n",
      "only showing top 5 rows\n",
      "\n"
     ]
    }
   ],
   "source": [
    "big_seven_df = data.filter(col(\"ticker\").isin(big_seven_tickers))\n",
    "big_seven_df.show(5)"
   ]
  },
  {
   "cell_type": "markdown",
   "id": "1eece80a-1f49-4bba-a271-3ba8caef12fd",
   "metadata": {},
   "source": [
    "Step7: Annualized Rate of Return"
   ]
  },
  {
   "cell_type": "code",
   "execution_count": 61,
   "id": "b3edfad4-2580-4183-9c4c-c38aef6bd6fe",
   "metadata": {},
   "outputs": [
    {
     "name": "stdout",
     "output_type": "stream",
     "text": [
      "+------+----+--------------------+\n",
      "|ticker|year|   annual_avg_return|\n",
      "+------+----+--------------------+\n",
      "|  AAPL|2020|0.001587037250173...|\n",
      "|  AAPL|2021|8.922906397032655E-4|\n",
      "|  AAPL|2016|9.417617653038774E-4|\n",
      "|  AAPL|2019|0.001826174510894...|\n",
      "|  AAPL|2015|-9.54329539536688...|\n",
      "+------+----+--------------------+\n",
      "only showing top 5 rows\n",
      "\n"
     ]
    }
   ],
   "source": [
    "data_yearly = data.groupBy(\"ticker\", F.year(\"Date\").alias(\"year\")).agg(F.avg(\"daily_return\").alias(\"annual_avg_return\"))\n",
    "data_yearly.show(5)"
   ]
  },
  {
   "cell_type": "code",
   "execution_count": 62,
   "id": "e0cd8084-b8a6-43f2-9e33-0b5a5e94ae6f",
   "metadata": {},
   "outputs": [
    {
     "name": "stdout",
     "output_type": "stream",
     "text": [
      "+------+----+--------------------+\n",
      "|ticker|year|   annual_avg_return|\n",
      "+------+----+--------------------+\n",
      "|  AAPL|2020|0.001587037250173...|\n",
      "|  AAPL|2021|8.922906397032655E-4|\n",
      "|  AAPL|2016|9.417617653038774E-4|\n",
      "|  AAPL|2019|0.001826174510894...|\n",
      "|  AAPL|2015|-9.54329539536688...|\n",
      "+------+----+--------------------+\n",
      "only showing top 5 rows\n",
      "\n"
     ]
    }
   ],
   "source": [
    "big_seven_yearly = big_seven_df.groupBy(\"ticker\", F.year(\"Date\").alias(\"year\")).agg(F.avg(\"daily_return\").alias(\"annual_avg_return\"))\n",
    "big_seven_yearly.show(5)"
   ]
  },
  {
   "cell_type": "code",
   "execution_count": 63,
   "id": "e7890817-f508-438c-bba2-ef53cca8e357",
   "metadata": {
    "scrolled": true
   },
   "outputs": [
    {
     "name": "stdout",
     "output_type": "stream",
     "text": [
      "+--------------------+----+--------------------+\n",
      "|              sector|year|   annual_avg_return|\n",
      "+--------------------+----+--------------------+\n",
      "|    Consumer Staples|2022|-8.96103263574838...|\n",
      "|Information Techn...|2021|1.335529032370394E-4|\n",
      "|Communication Ser...|2015|2.969932312012591E-4|\n",
      "|              Energy|2019|4.799272890148064E-5|\n",
      "|         Real Estate|2023|7.452076309877752E-4|\n",
      "+--------------------+----+--------------------+\n",
      "only showing top 5 rows\n",
      "\n"
     ]
    }
   ],
   "source": [
    "sector_yearly_return = sector_daily_price.groupBy(\"sector\", F.year(\"Date\").alias(\"year\")).agg(F.avg(\"daily_return\").alias(\"annual_avg_return\"))\n",
    "sector_yearly_return.show(5)"
   ]
  },
  {
   "cell_type": "code",
   "execution_count": 64,
   "id": "e6036870-e5f4-470f-8711-fdfca0d93ff7",
   "metadata": {},
   "outputs": [
    {
     "name": "stdout",
     "output_type": "stream",
     "text": [
      "+--------------------+----+--------------------+\n",
      "|        sub_industry|year|   annual_avg_return|\n",
      "+--------------------+----+--------------------+\n",
      "|     Multi-Utilities|2020|7.192633866542166E-4|\n",
      "|Diversified Suppo...|2023| 8.32870109148898E-4|\n",
      "|Electronic Equipm...|2015|0.001084343884663...|\n",
      "|Wireless Telecomm...|2023| 8.28773495315729E-4|\n",
      "|Transaction & Pay...|2018|1.427829547660595...|\n",
      "+--------------------+----+--------------------+\n",
      "only showing top 5 rows\n",
      "\n"
     ]
    }
   ],
   "source": [
    "sub_industry_yearly_return = sub_industry_daily_price.groupBy(\"sub_industry\", F.year(\"Date\").alias(\"year\")).agg(F.avg(\"daily_return\").alias(\"annual_avg_return\"))\n",
    "sub_industry_yearly_return.show(5)"
   ]
  },
  {
   "cell_type": "markdown",
   "id": "ec05a8ee-984b-4f58-b4f4-ad7302cbefd8",
   "metadata": {},
   "source": [
    "Step8：Load to BigQuery"
   ]
  },
  {
   "cell_type": "code",
   "execution_count": 54,
   "id": "a67fe2a2-d16c-423a-beee-4f988d34b3ae",
   "metadata": {},
   "outputs": [],
   "source": [
    "client = bigquery.Client()\n",
    "\n",
    "spark.conf.set('temporaryGcsBucket', 'your-gcs-bucket-name')"
   ]
  },
  {
   "cell_type": "code",
   "execution_count": 57,
   "id": "d96a0c1b-7373-4615-a0b8-dd4cbd21766f",
   "metadata": {},
   "outputs": [
    {
     "name": "stderr",
     "output_type": "stream",
     "text": [
      "D:\\Program Files\\Python\\Lib\\site-packages\\google\\cloud\\bigquery\\_pandas_helpers.py:489: FutureWarning: Loading pandas DataFrame into BigQuery will require pandas-gbq package version 0.26.1 or greater in the future. Tried to import pandas-gbq and got: No module named 'pandas_gbq'\n",
      "  warnings.warn(\n"
     ]
    },
    {
     "data": {
      "text/plain": [
       "LoadJob<project=yahoo-finance-455223, location=us-central1, id=660139d7-c977-4dbb-9dfa-fcced9c28a93>"
      ]
     },
     "execution_count": 57,
     "metadata": {},
     "output_type": "execute_result"
    }
   ],
   "source": [
    "table_id_1 = \"yahoo-finance-455223.yfinance_data.nasdaq_100_stock_data\"\n",
    "pandas_df = data.toPandas()\n",
    "client.load_table_from_dataframe(pandas_df, table_id_1)\n",
    "#data.write.format('bigquery').option('table', table_id_1).mode(\"overwrite\").save()"
   ]
  },
  {
   "cell_type": "code",
   "execution_count": 59,
   "id": "9459060d-aa27-4b5b-b921-9f13b31af1cf",
   "metadata": {},
   "outputs": [
    {
     "name": "stderr",
     "output_type": "stream",
     "text": [
      "D:\\Program Files\\Python\\Lib\\site-packages\\google\\cloud\\bigquery\\_pandas_helpers.py:489: FutureWarning: Loading pandas DataFrame into BigQuery will require pandas-gbq package version 0.26.1 or greater in the future. Tried to import pandas-gbq and got: No module named 'pandas_gbq'\n",
      "  warnings.warn(\n"
     ]
    },
    {
     "data": {
      "text/plain": [
       "LoadJob<project=yahoo-finance-455223, location=us-central1, id=1698bb67-5901-41c2-8de5-6962bed4a873>"
      ]
     },
     "execution_count": 59,
     "metadata": {},
     "output_type": "execute_result"
    }
   ],
   "source": [
    "table_id_2 = \"yahoo-finance-455223.yfinance_data.big_seven_stock_data\"\n",
    "pandas_df = big_seven_df.toPandas()\n",
    "client.load_table_from_dataframe(pandas_df, table_id_2)"
   ]
  },
  {
   "cell_type": "code",
   "execution_count": 65,
   "id": "c5c02f4a-b52c-49a7-a33d-d5dad1f60a0f",
   "metadata": {},
   "outputs": [
    {
     "name": "stderr",
     "output_type": "stream",
     "text": [
      "D:\\Program Files\\Python\\Lib\\site-packages\\google\\cloud\\bigquery\\_pandas_helpers.py:489: FutureWarning: Loading pandas DataFrame into BigQuery will require pandas-gbq package version 0.26.1 or greater in the future. Tried to import pandas-gbq and got: No module named 'pandas_gbq'\n",
      "  warnings.warn(\n"
     ]
    },
    {
     "data": {
      "text/plain": [
       "LoadJob<project=yahoo-finance-455223, location=us-central1, id=bf0af77d-d6af-4853-9655-1399ee969f8e>"
      ]
     },
     "execution_count": 65,
     "metadata": {},
     "output_type": "execute_result"
    }
   ],
   "source": [
    "table_id_3 = \"yahoo-finance-455223.yfinance_data.nasdaq_100_yearly_data\"\n",
    "pandas_df = data_yearly.toPandas()\n",
    "client.load_table_from_dataframe(pandas_df, table_id_3)"
   ]
  },
  {
   "cell_type": "code",
   "execution_count": 66,
   "id": "e46f182a-cd3c-42f3-9ff7-90cffe70d4d2",
   "metadata": {},
   "outputs": [
    {
     "name": "stderr",
     "output_type": "stream",
     "text": [
      "D:\\Program Files\\Python\\Lib\\site-packages\\google\\cloud\\bigquery\\_pandas_helpers.py:489: FutureWarning: Loading pandas DataFrame into BigQuery will require pandas-gbq package version 0.26.1 or greater in the future. Tried to import pandas-gbq and got: No module named 'pandas_gbq'\n",
      "  warnings.warn(\n"
     ]
    },
    {
     "data": {
      "text/plain": [
       "LoadJob<project=yahoo-finance-455223, location=us-central1, id=dc5eacb8-6272-45e1-a457-61c37f98558a>"
      ]
     },
     "execution_count": 66,
     "metadata": {},
     "output_type": "execute_result"
    }
   ],
   "source": [
    "table_id_4 = \"yahoo-finance-455223.yfinance_data.big_seven_yearly_data\"\n",
    "pandas_df = big_seven_yearly.toPandas()\n",
    "client.load_table_from_dataframe(pandas_df, table_id_4)"
   ]
  },
  {
   "cell_type": "code",
   "execution_count": 67,
   "id": "c6ba5cf6-9a22-4749-8d0a-5cdcf0315d2b",
   "metadata": {},
   "outputs": [
    {
     "name": "stderr",
     "output_type": "stream",
     "text": [
      "D:\\Program Files\\Python\\Lib\\site-packages\\google\\cloud\\bigquery\\_pandas_helpers.py:489: FutureWarning: Loading pandas DataFrame into BigQuery will require pandas-gbq package version 0.26.1 or greater in the future. Tried to import pandas-gbq and got: No module named 'pandas_gbq'\n",
      "  warnings.warn(\n"
     ]
    },
    {
     "data": {
      "text/plain": [
       "LoadJob<project=yahoo-finance-455223, location=us-central1, id=9ebb2631-a9b1-456c-9d1f-a8468675397b>"
      ]
     },
     "execution_count": 67,
     "metadata": {},
     "output_type": "execute_result"
    }
   ],
   "source": [
    "table_id_5 = \"yahoo-finance-455223.yfinance_data.sector_yearly_return\"\n",
    "pandas_df = sector_yearly_return.toPandas()\n",
    "client.load_table_from_dataframe(pandas_df, table_id_5)"
   ]
  },
  {
   "cell_type": "code",
   "execution_count": 68,
   "id": "bd822c88-f28b-4fa8-819c-fe2625baa5dc",
   "metadata": {},
   "outputs": [
    {
     "name": "stderr",
     "output_type": "stream",
     "text": [
      "D:\\Program Files\\Python\\Lib\\site-packages\\google\\cloud\\bigquery\\_pandas_helpers.py:489: FutureWarning: Loading pandas DataFrame into BigQuery will require pandas-gbq package version 0.26.1 or greater in the future. Tried to import pandas-gbq and got: No module named 'pandas_gbq'\n",
      "  warnings.warn(\n"
     ]
    },
    {
     "data": {
      "text/plain": [
       "LoadJob<project=yahoo-finance-455223, location=us-central1, id=25852033-a97c-418d-a900-81dab5f78942>"
      ]
     },
     "execution_count": 68,
     "metadata": {},
     "output_type": "execute_result"
    }
   ],
   "source": [
    "table_id_6 = \"yahoo-finance-455223.yfinance_data.sub_industry_yearly_return\"\n",
    "pandas_df = sub_industry_yearly_return.toPandas()\n",
    "client.load_table_from_dataframe(pandas_df, table_id_6)"
   ]
  }
 ],
 "metadata": {
  "kernelspec": {
   "display_name": "Python 3.10.9",
   "language": "python",
   "name": "py310"
  },
  "language_info": {
   "codemirror_mode": {
    "name": "ipython",
    "version": 3
   },
   "file_extension": ".py",
   "mimetype": "text/x-python",
   "name": "python",
   "nbconvert_exporter": "python",
   "pygments_lexer": "ipython3",
   "version": "3.13.1"
  }
 },
 "nbformat": 4,
 "nbformat_minor": 5
}
